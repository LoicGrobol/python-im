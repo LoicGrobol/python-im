{
 "cells": [
  {
   "cell_type": "markdown",
   "metadata": {
    "slideshow": {
     "slide_type": "slide"
    }
   },
   "source": [
    "# Langages de script – Python\n",
    "\n",
    "## Visualisation vectorielle de corpus\n",
    "\n",
    "### M2 Ingénierie Multilingue – INaLCO\n",
    "\n",
    "clement.plancq@ens.fr"
   ]
  },
  {
   "cell_type": "markdown",
   "metadata": {
    "slideshow": {
     "slide_type": "slide"
    }
   },
   "source": [
    "## Visualiser des données vectorielles\n",
    "On a vu dans [un TP précédent](modele_vectoriel.ipynb) plusieurs façon de transformer de représenter des documents sous forme de vecteurs.\n",
    "\n",
    "Une des applications de ce type de transformations est de visualiser des corpus pour pouvoir intuitivement des observations et des hypothèses sur leurs distributions."
   ]
  },
  {
   "cell_type": "markdown",
   "metadata": {
    "slideshow": {
     "slide_type": "slide"
    }
   },
   "source": [
    "## Votre pote `matplotlib`, là"
   ]
  },
  {
   "cell_type": "code",
   "execution_count": null,
   "metadata": {},
   "outputs": [],
   "source": [
    "%matplotlib inline\n",
    "import matplotlib.pyplot as plt"
   ]
  },
  {
   "cell_type": "code",
   "execution_count": null,
   "metadata": {
    "slideshow": {
     "slide_type": "fragment"
    }
   },
   "outputs": [],
   "source": [
    "import numpy as np\n",
    "X = np.random.rand(100)\n",
    "Y = np.random.rand(100)\n",
    "plt.scatter(X, Y)"
   ]
  },
  {
   "cell_type": "code",
   "execution_count": null,
   "metadata": {
    "slideshow": {
     "slide_type": "subslide"
    }
   },
   "outputs": [],
   "source": [
    "classes = np.random.randint(0, 2, 100)\n",
    "plt.scatter(X, Y, c=classes)"
   ]
  },
  {
   "cell_type": "markdown",
   "metadata": {
    "slideshow": {
     "slide_type": "slide"
    }
   },
   "source": [
    "## Voir en dimension 10000\n",
    "Les représentations vectorielles de documents sont souvent en haute dimension\n",
    "  - Quelques centaintes pour doc2vec et al.\n",
    "  - Plusieurs millers pour les sacs de mots\n",
    "  \n",
    "On va donc devoir trouver des solutions pour se rammener à deux dimensions en gardant un maximum de pertinence"
   ]
  },
  {
   "cell_type": "markdown",
   "metadata": {
    "slideshow": {
     "slide_type": "slide"
    }
   },
   "source": [
    "D'abord, un peu d'infrastructure"
   ]
  },
  {
   "cell_type": "code",
   "execution_count": null,
   "metadata": {
    "slideshow": {
     "slide_type": "-"
    }
   },
   "outputs": [],
   "source": [
    "pos = np.loadtxt('data/imdb/pos.tsv')\n",
    "neg = np.loadtxt('data/imdb/neg.tsv')\n",
    "display(pos.shape, neg.shape)"
   ]
  },
  {
   "cell_type": "code",
   "execution_count": null,
   "metadata": {
    "slideshow": {
     "slide_type": "-"
    }
   },
   "outputs": [],
   "source": [
    "X = np.concatenate([pos, neg])\n",
    "X.shape"
   ]
  },
  {
   "cell_type": "code",
   "execution_count": null,
   "metadata": {},
   "outputs": [],
   "source": [
    "cl = np.concatenate([np.zeros(pos.shape[0]), np.ones(neg.shape[0])])"
   ]
  },
  {
   "cell_type": "markdown",
   "metadata": {
    "slideshow": {
     "slide_type": "slide"
    }
   },
   "source": [
    "On peut par exemple prendre les deux premières dimensions"
   ]
  },
  {
   "cell_type": "code",
   "execution_count": null,
   "metadata": {
    "slideshow": {
     "slide_type": "fragment"
    }
   },
   "outputs": [],
   "source": [
    "plt.scatter(X[:, 0], X[:, 1], c=cl, edgecolors='black')"
   ]
  },
  {
   "cell_type": "markdown",
   "metadata": {
    "slideshow": {
     "slide_type": "fragment"
    }
   },
   "source": [
    "C'est donc complètement nul. Et encore la première dimension a l'air un peu intéressante"
   ]
  },
  {
   "cell_type": "markdown",
   "metadata": {
    "slideshow": {
     "slide_type": "slide"
    }
   },
   "source": [
    "### Trouver les dimensions intéressantes\n",
    "On a voit que toutes les dimensions ne sont pas de la même nature\n",
    "  - La plupart sont creuses : donc seuls quelques documents y ont une coordonée non-nulle\n",
    "  - Pour quelques mots, on aura une bonne dispersion (ici pour *a*)\n",
    "\n",
    "L'idée de l'Analyse en Composantes Principales c'est de trouver les dimensions qui expliquent le mieux la dispersion de l'ensemble du corpus.\n",
    "\n",
    "(Par contre on s'autorise à combiner plusieurs dimension entre elles, ce qui revient à faire des rotations)"
   ]
  },
  {
   "cell_type": "code",
   "execution_count": null,
   "metadata": {
    "slideshow": {
     "slide_type": "subslide"
    }
   },
   "outputs": [],
   "source": [
    "from sklearn.decomposition import PCA\n",
    "pca = PCA(n_components=2)\n",
    "Y = pca.fit_transform(X)\n",
    "display(Y.shape)\n",
    "plt.scatter(Y[:, 0], Y[:, 1], c=cl[:], edgecolors='k')"
   ]
  },
  {
   "cell_type": "code",
   "execution_count": null,
   "metadata": {
    "slideshow": {
     "slide_type": "subslide"
    }
   },
   "outputs": [],
   "source": [
    "plt.scatter(Y[:301, 0], Y[:301, 1], c=cl[:301], edgecolors='k')"
   ]
  },
  {
   "cell_type": "code",
   "execution_count": null,
   "metadata": {
    "slideshow": {
     "slide_type": "-"
    }
   },
   "outputs": [],
   "source": [
    "plt.scatter(Y[300:, 0], Y[300:, 1], c=cl[300:], edgecolors='k')"
   ]
  },
  {
   "cell_type": "code",
   "execution_count": null,
   "metadata": {
    "slideshow": {
     "slide_type": "subslide"
    }
   },
   "outputs": [],
   "source": [
    "pca3d = PCA(n_components=3)\n",
    "Y3d = pca3d.fit_transform(X)"
   ]
  },
  {
   "cell_type": "code",
   "execution_count": null,
   "metadata": {},
   "outputs": [],
   "source": [
    "from mpl_toolkits.mplot3d import Axes3D\n",
    "fig = plt.figure()\n",
    "ax = Axes3D(fig)\n",
    "ax.scatter(Y3d[:, 0], Y3d[:, 1],  Y3d[:, 2], c=cl[:], edgecolors='k')"
   ]
  },
  {
   "cell_type": "markdown",
   "metadata": {
    "slideshow": {
     "slide_type": "slide"
    }
   },
   "source": [
    " ### t-SNE, la star\n",
    " T-distributed Stochastic Neighbor Embedding\n",
    "\n",
    " On part dans du lourdement non-interprétable : prend comme représentation en 2d du corpus celle dont la distribution spatiale ($\\approx$ les distances entre documents est la plus proche de celle dans l'espace de départ)"
   ]
  },
  {
   "cell_type": "code",
   "execution_count": null,
   "metadata": {
    "slideshow": {
     "slide_type": "subslide"
    }
   },
   "outputs": [],
   "source": [
    "from sklearn.manifold import TSNE\n",
    "tsne = TSNE(n_components=2)\n",
    "Z = tsne.fit_transform(X)\n",
    "plt.scatter(Z[:, 0], Z[:, 1], c=cl[:], edgecolors='k')"
   ]
  },
  {
   "cell_type": "code",
   "execution_count": null,
   "metadata": {
    "slideshow": {
     "slide_type": "subslide"
    }
   },
   "outputs": [],
   "source": [
    "tsne3 = TSNE(n_components=3)\n",
    "Z3d = tsne3.fit_transform(X)"
   ]
  },
  {
   "cell_type": "code",
   "execution_count": null,
   "metadata": {},
   "outputs": [],
   "source": [
    "fig = plt.figure()\n",
    "ax = Axes3D(fig)\n",
    "ax.scatter(Z3d[:, 0], Z3d[:, 1], Z3d[:, 2], c=cl[:], edgecolors='k')"
   ]
  },
  {
   "cell_type": "markdown",
   "metadata": {
    "slideshow": {
     "slide_type": "subslide"
    }
   },
   "source": [
    "Les auteurs conseillent de ne pas l'appliquer sur des dimensions trop élevées. Le must c'est donc d'enchaîner ACP et t-SNE"
   ]
  },
  {
   "cell_type": "code",
   "execution_count": null,
   "metadata": {},
   "outputs": [],
   "source": [
    "pca = PCA(n_components=50)\n",
    "Y50 = pca.fit_transform(X)\n",
    "T = tsne.fit_transform(Y50)\n",
    "plt.scatter(T[:, 0], T[:, 1], c=cl[:], edgecolors='k', alpha=0.5)"
   ]
  }
 ],
 "metadata": {
  "celltoolbar": "Slideshow",
  "kernelspec": {
   "display_name": "Python 3",
   "language": "python",
   "name": "python3"
  },
  "language_info": {
   "codemirror_mode": {
    "name": "ipython",
    "version": 3
   },
   "file_extension": ".py",
   "mimetype": "text/x-python",
   "name": "python",
   "nbconvert_exporter": "python",
   "pygments_lexer": "ipython3",
   "version": "3.7.1"
  }
 },
 "nbformat": 4,
 "nbformat_minor": 2
}
